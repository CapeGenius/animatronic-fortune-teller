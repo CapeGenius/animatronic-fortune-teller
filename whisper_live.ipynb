{
 "cells": [
  {
   "cell_type": "code",
   "execution_count": null,
   "metadata": {},
   "outputs": [],
   "source": [
    "import sounddevice as sd\n",
    "import pydub\n",
    "from scipy.io.wavfile import write\n",
    "from groq import Groq\n",
    "import os\n",
    "\n",
    "def record_audio(seconds: int, filename:str):\n",
    "    fs = 44100  # Sample rate\n",
    "\n",
    "    myrecording = sd.rec(int(seconds * fs), samplerate=fs, channels=2)\n",
    "    sd.wait()  # Wait until recording is finished\n",
    "    write(f'{filename}.wav', fs, myrecording)  # Save as WAV file \n",
    "\n",
    "    sound = pydub.AudioSegment.from_wav(f\"{filename}.wav\")\n",
    "    sound.export(f\"{filename}.mp3\", format=\"mp3\")\n",
    "\n",
    "def transcription(file:str):\n",
    "    # Initialize the Groq client\n",
    "    client = Groq()\n",
    "\n",
    "    # Specify the path to the audio file\n",
    "    filename = f\"{file}.mp3\" # Replace with your audio file!\n",
    "\n",
    "    # Open the audio file\n",
    "    with open(filename, \"rb\") as file:\n",
    "        # Create a transcription of the audio file\n",
    "        transcription = client.audio.transcriptions.create(\n",
    "        file=(filename, file.read()), # Required audio file\n",
    "        model=\"whisper-large-v3-turbo\", # Required model to use for transcription\n",
    "        prompt=\"Specify context or spelling\",  # Optional\n",
    "        response_format=\"json\",  # Optional\n",
    "        language=\"en\",  # Optional\n",
    "        temperature=0.0  # Optional\n",
    "        )\n",
    "        # Print the transcription text\n",
    "        print(transcription.text)\n",
    "\n",
    "    os.remove(f\"{file}.mp3\")\n",
    "    os.remove(f\"{file}.wav\")"
   ]
  },
  {
   "cell_type": "code",
   "execution_count": 43,
   "metadata": {},
   "outputs": [
    {
     "name": "stdout",
     "output_type": "stream",
     "text": [
      " Hello hello hello\n"
     ]
    },
    {
     "ename": "FileNotFoundError",
     "evalue": "[Errno 2] No such file or directory: \"<_io.BufferedReader name='output.mp3'>.mp3\"",
     "output_type": "error",
     "traceback": [
      "\u001b[0;31m---------------------------------------------------------------------------\u001b[0m",
      "\u001b[0;31mFileNotFoundError\u001b[0m                         Traceback (most recent call last)",
      "Cell \u001b[0;32mIn[43], line 2\u001b[0m\n\u001b[1;32m      1\u001b[0m record_audio(\u001b[38;5;241m5\u001b[39m, \u001b[38;5;124m\"\u001b[39m\u001b[38;5;124moutput\u001b[39m\u001b[38;5;124m\"\u001b[39m)\n\u001b[0;32m----> 2\u001b[0m \u001b[43mtranscription\u001b[49m\u001b[43m(\u001b[49m\u001b[38;5;124;43m\"\u001b[39;49m\u001b[38;5;124;43moutput\u001b[39;49m\u001b[38;5;124;43m\"\u001b[39;49m\u001b[43m)\u001b[49m\n",
      "Cell \u001b[0;32mIn[37], line 38\u001b[0m, in \u001b[0;36mtranscription\u001b[0;34m(file)\u001b[0m\n\u001b[1;32m     35\u001b[0m     \u001b[38;5;66;03m# Print the transcription text\u001b[39;00m\n\u001b[1;32m     36\u001b[0m     \u001b[38;5;28mprint\u001b[39m(transcription\u001b[38;5;241m.\u001b[39mtext)\n\u001b[0;32m---> 38\u001b[0m \u001b[43mos\u001b[49m\u001b[38;5;241;43m.\u001b[39;49m\u001b[43mremove\u001b[49m\u001b[43m(\u001b[49m\u001b[38;5;124;43mf\u001b[39;49m\u001b[38;5;124;43m\"\u001b[39;49m\u001b[38;5;132;43;01m{\u001b[39;49;00m\u001b[43mfile\u001b[49m\u001b[38;5;132;43;01m}\u001b[39;49;00m\u001b[38;5;124;43m.mp3\u001b[39;49m\u001b[38;5;124;43m\"\u001b[39;49m\u001b[43m)\u001b[49m\n\u001b[1;32m     39\u001b[0m os\u001b[38;5;241m.\u001b[39mremove(\u001b[38;5;124mf\u001b[39m\u001b[38;5;124m\"\u001b[39m\u001b[38;5;132;01m{\u001b[39;00mfile\u001b[38;5;132;01m}\u001b[39;00m\u001b[38;5;124m.wav\u001b[39m\u001b[38;5;124m\"\u001b[39m)\n",
      "\u001b[0;31mFileNotFoundError\u001b[0m: [Errno 2] No such file or directory: \"<_io.BufferedReader name='output.mp3'>.mp3\""
     ]
    }
   ],
   "source": [
    "record_audio(5, \"output\")\n",
    "transcription(\"output\")"
   ]
  }
 ],
 "metadata": {
  "kernelspec": {
   "display_name": "MLenv",
   "language": "python",
   "name": "python3"
  },
  "language_info": {
   "name": "python",
   "version": "3.10.12"
  }
 },
 "nbformat": 4,
 "nbformat_minor": 2
}
